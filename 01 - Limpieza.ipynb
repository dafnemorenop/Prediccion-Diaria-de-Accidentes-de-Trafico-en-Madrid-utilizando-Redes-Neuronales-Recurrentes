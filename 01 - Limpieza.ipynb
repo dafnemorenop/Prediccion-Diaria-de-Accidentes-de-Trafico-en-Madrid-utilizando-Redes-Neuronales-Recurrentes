{
 "cells": [
  {
   "cell_type": "code",
   "execution_count": 143,
   "metadata": {},
   "outputs": [],
   "source": [
    "import pandas as pd\n",
    "import numpy as np\n",
    "import re\n",
    "import plotly.express as px\n",
    "from datetime import time"
   ]
  },
  {
   "cell_type": "markdown",
   "metadata": {},
   "source": [
    "# CARGA DE LA ACCIDENTALIDAD \n",
    "**DESDE EL 2010 al 2018**\n",
    "\n",
    "**DESDE EL 2019 al 2024**\n",
    "\n",
    "Fue necesario cargarlo por separado debido al encoding de los csv's.\n",
    "También fue necesario renombrar las columnas sobre el número de victimas, ya que venían con diferentes nomenclaturas."
   ]
  },
  {
   "cell_type": "code",
   "execution_count": 144,
   "metadata": {},
   "outputs": [],
   "source": [
    "# Carga el CSV desde el 2010 al 2018\n",
    "dfs = []\n",
    "\n",
    "# Rectifica las columnas nombradas distintas en una sola\n",
    "nombres_distintos_victimas = {\n",
    "    'Nº VICTIMAS *': 'Nº VICTIMAS',\n",
    "    \"Nº VICTIMAS *\": 'Nº VICTIMAS',\n",
    "    '* Nº VICTIMAS': 'Nº VICTIMAS',\n",
    "    \"Nº VICTIMAS * \": 'Nº VICTIMAS'\n",
    "}\n",
    "\n",
    "for year in range(2010, 2019):\n",
    "    ubicacion = f\"Data/{year}_Accidentalidad.csv\"\n",
    "    df = pd.read_csv(ubicacion, delimiter = ';', encoding = 'ISO-8859-1')\n",
    "    df.rename(columns = nombres_distintos_victimas, inplace = True)\n",
    "    \n",
    "    dfs.append(df)   \n",
    "\n",
    "df_1 = pd.concat(dfs, ignore_index=True)\n",
    "\n",
    "# Carga el CSV desde el 2019 al 2024\n",
    "dfs_2 = []\n",
    "\n",
    "for year in range(2019, 2025):\n",
    "    ubicacion = f\"Data/{year}_Accidentalidad.csv\"\n",
    "    df = pd.read_csv(ubicacion, delimiter = ';')\n",
    "    dfs_2.append(df)\n",
    "\n",
    "df_2 = pd.concat(dfs_2, ignore_index = True)"
   ]
  },
  {
   "cell_type": "markdown",
   "metadata": {},
   "source": [
    "# ELIMINAR EXPRESIONES REGULARES"
   ]
  },
  {
   "cell_type": "code",
   "execution_count": 145,
   "metadata": {},
   "outputs": [],
   "source": [
    "# Convertimos columnas y filas a minusculas para una mejor manipulacion\n",
    "def columnas_minusculas(*dfs):\n",
    "    for df in dfs:\n",
    "        df.columns = [columna.lower() for columna in df.columns]\n",
    "        df[df.select_dtypes(include=['object']).columns] = df.select_dtypes(include=['object']).apply(lambda x: x.str.lower())\n",
    "\n",
    "columnas_minusculas(df_1, df_2)"
   ]
  },
  {
   "cell_type": "code",
   "execution_count": 146,
   "metadata": {},
   "outputs": [],
   "source": [
    "# Sustitumos tildes por letras normales\n",
    "def sustituir_tilde(texto):\n",
    "    if isinstance(texto, str):\n",
    "        texto = texto.replace('á', 'a').replace('é', 'e').replace('í', 'i').replace('ó', 'o').replace('ú', 'u')\n",
    "    return texto\n",
    "\n",
    "def quitar_tilde_df(*dfs):\n",
    "    for df in dfs:    \n",
    "        df.columns = [sustituir_tilde(columna.lower()) for columna in df.columns]\n",
    "        for columna in df.select_dtypes(include=['object']).columns:\n",
    "            df[columna] = df[columna].apply(sustituir_tilde)\n",
    "\n",
    "quitar_tilde_df(df_1, df_2)"
   ]
  },
  {
   "cell_type": "markdown",
   "metadata": {},
   "source": [
    "# ELIMINAR y RENOMBRAR COLUMNAS"
   ]
  },
  {
   "cell_type": "code",
   "execution_count": 147,
   "metadata": {},
   "outputs": [],
   "source": [
    "# Eliminar las columnas 'Unnamed: 19' y 'Unnamed: 20' que se han creado sin ningún dato\n",
    "df_2.drop(['unnamed: 19', 'unnamed: 20'], axis=1, inplace=True)\n",
    "\n",
    "# Eliminamos columna cod_lesividad \n",
    "df_2.drop(['cod_lesividad'], axis=1, inplace=True)"
   ]
  },
  {
   "cell_type": "code",
   "execution_count": 148,
   "metadata": {},
   "outputs": [],
   "source": [
    "renombrar_columnas = {\n",
    "    'estado_meteorologico': 'condicion',\n",
    "    'lugar accidente'     : 'localizacion',\n",
    "    'nº'                  : 'numero',\n",
    "    'tipo vehiculo'       : 'tipo_vehiculo'\n",
    "}\n",
    "\n",
    "# Renombrar columnas del primer conjunto (df_1)\n",
    "df_1.rename(columns = renombrar_columnas, inplace = True)\n",
    "\n",
    "# Renombrar columnas del segundo conjunto (df_2)\n",
    "df_2.rename(columns = renombrar_columnas, inplace = True)"
   ]
  },
  {
   "cell_type": "code",
   "execution_count": 149,
   "metadata": {},
   "outputs": [
    {
     "data": {
      "text/html": [
       "<div>\n",
       "<style scoped>\n",
       "    .dataframe tbody tr th:only-of-type {\n",
       "        vertical-align: middle;\n",
       "    }\n",
       "\n",
       "    .dataframe tbody tr th {\n",
       "        vertical-align: top;\n",
       "    }\n",
       "\n",
       "    .dataframe thead th {\n",
       "        text-align: right;\n",
       "    }\n",
       "</style>\n",
       "<table border=\"1\" class=\"dataframe\">\n",
       "  <thead>\n",
       "    <tr style=\"text-align: right;\">\n",
       "      <th></th>\n",
       "      <th>fecha</th>\n",
       "      <th>rango horario</th>\n",
       "      <th>dia semana</th>\n",
       "      <th>distrito</th>\n",
       "      <th>localizacion</th>\n",
       "      <th>numero</th>\n",
       "      <th>nº parte</th>\n",
       "      <th>cpfa granizo</th>\n",
       "      <th>cpfa hielo</th>\n",
       "      <th>cpfa lluvia</th>\n",
       "      <th>...</th>\n",
       "      <th>cpsv grava suelta</th>\n",
       "      <th>cpsv hielo</th>\n",
       "      <th>cpsv seca y limpia</th>\n",
       "      <th>nº victimas</th>\n",
       "      <th>tipo accidente</th>\n",
       "      <th>tipo_vehiculo</th>\n",
       "      <th>tipo persona</th>\n",
       "      <th>sexo</th>\n",
       "      <th>lesividad</th>\n",
       "      <th>tramo edad</th>\n",
       "    </tr>\n",
       "  </thead>\n",
       "  <tbody>\n",
       "    <tr>\n",
       "      <th>0</th>\n",
       "      <td>01/01/2010</td>\n",
       "      <td>de 00:00 a 00:59</td>\n",
       "      <td>viernes</td>\n",
       "      <td>chamartin</td>\n",
       "      <td>calle de cartagena num                        ...</td>\n",
       "      <td>104</td>\n",
       "      <td>2010/135</td>\n",
       "      <td>no</td>\n",
       "      <td>no</td>\n",
       "      <td>si</td>\n",
       "      <td>...</td>\n",
       "      <td>no</td>\n",
       "      <td>no</td>\n",
       "      <td>no</td>\n",
       "      <td>1</td>\n",
       "      <td>colision doble</td>\n",
       "      <td>turismo</td>\n",
       "      <td>conductor</td>\n",
       "      <td>hombre</td>\n",
       "      <td>il</td>\n",
       "      <td>de 18 a 20 años</td>\n",
       "    </tr>\n",
       "    <tr>\n",
       "      <th>1</th>\n",
       "      <td>01/01/2010</td>\n",
       "      <td>de 00:00 a 00:59</td>\n",
       "      <td>viernes</td>\n",
       "      <td>chamartin</td>\n",
       "      <td>calle de cartagena num                        ...</td>\n",
       "      <td>104</td>\n",
       "      <td>2010/135</td>\n",
       "      <td>no</td>\n",
       "      <td>no</td>\n",
       "      <td>si</td>\n",
       "      <td>...</td>\n",
       "      <td>no</td>\n",
       "      <td>no</td>\n",
       "      <td>no</td>\n",
       "      <td>1</td>\n",
       "      <td>colision doble</td>\n",
       "      <td>turismo</td>\n",
       "      <td>conductor</td>\n",
       "      <td>hombre</td>\n",
       "      <td>il</td>\n",
       "      <td>de 50 a 54 años</td>\n",
       "    </tr>\n",
       "  </tbody>\n",
       "</table>\n",
       "<p>2 rows × 26 columns</p>\n",
       "</div>"
      ],
      "text/plain": [
       "        fecha     rango horario dia semana                        distrito  \\\n",
       "0  01/01/2010  de 00:00 a 00:59    viernes  chamartin                        \n",
       "1  01/01/2010  de 00:00 a 00:59    viernes  chamartin                        \n",
       "\n",
       "                                        localizacion numero  nº parte  \\\n",
       "0  calle de cartagena num                        ...    104  2010/135   \n",
       "1  calle de cartagena num                        ...    104  2010/135   \n",
       "\n",
       "  cpfa granizo cpfa hielo cpfa lluvia  ... cpsv grava suelta cpsv hielo  \\\n",
       "0           no         no          si  ...                no         no   \n",
       "1           no         no          si  ...                no         no   \n",
       "\n",
       "  cpsv seca y limpia nº victimas                            tipo accidente  \\\n",
       "0                 no           1  colision doble                             \n",
       "1                 no           1  colision doble                             \n",
       "\n",
       "                              tipo_vehiculo tipo persona    sexo  \\\n",
       "0  turismo                                     conductor  hombre   \n",
       "1  turismo                                     conductor  hombre   \n",
       "\n",
       "                                  lesividad       tramo edad  \n",
       "0  il                                        de 18 a 20 años  \n",
       "1  il                                        de 50 a 54 años  \n",
       "\n",
       "[2 rows x 26 columns]"
      ]
     },
     "execution_count": 149,
     "metadata": {},
     "output_type": "execute_result"
    }
   ],
   "source": [
    "df_1.head(2)"
   ]
  },
  {
   "cell_type": "code",
   "execution_count": 150,
   "metadata": {},
   "outputs": [
    {
     "data": {
      "text/html": [
       "<div>\n",
       "<style scoped>\n",
       "    .dataframe tbody tr th:only-of-type {\n",
       "        vertical-align: middle;\n",
       "    }\n",
       "\n",
       "    .dataframe tbody tr th {\n",
       "        vertical-align: top;\n",
       "    }\n",
       "\n",
       "    .dataframe thead th {\n",
       "        text-align: right;\n",
       "    }\n",
       "</style>\n",
       "<table border=\"1\" class=\"dataframe\">\n",
       "  <thead>\n",
       "    <tr style=\"text-align: right;\">\n",
       "      <th></th>\n",
       "      <th>num_expediente</th>\n",
       "      <th>fecha</th>\n",
       "      <th>hora</th>\n",
       "      <th>localizacion</th>\n",
       "      <th>numero</th>\n",
       "      <th>cod_distrito</th>\n",
       "      <th>distrito</th>\n",
       "      <th>tipo_accidente</th>\n",
       "      <th>condicion</th>\n",
       "      <th>tipo_vehiculo</th>\n",
       "      <th>tipo_persona</th>\n",
       "      <th>rango_edad</th>\n",
       "      <th>sexo</th>\n",
       "      <th>lesividad</th>\n",
       "      <th>coordenada_x_utm</th>\n",
       "      <th>coordenada_y_utm</th>\n",
       "      <th>positiva_alcohol</th>\n",
       "      <th>positiva_droga</th>\n",
       "    </tr>\n",
       "  </thead>\n",
       "  <tbody>\n",
       "    <tr>\n",
       "      <th>0</th>\n",
       "      <td>2018s017842</td>\n",
       "      <td>04/02/2019</td>\n",
       "      <td>9:10:00</td>\n",
       "      <td>call. alberto aguilera, 1</td>\n",
       "      <td>1</td>\n",
       "      <td>1.0</td>\n",
       "      <td>centro</td>\n",
       "      <td>colision lateral</td>\n",
       "      <td>despejado</td>\n",
       "      <td>motocicleta &gt; 125cc</td>\n",
       "      <td>conductor</td>\n",
       "      <td>de 45 a 49 años</td>\n",
       "      <td>hombre</td>\n",
       "      <td>asistencia sanitaria solo en el lugar del acci...</td>\n",
       "      <td>440068,049</td>\n",
       "      <td>4475679,17</td>\n",
       "      <td>n</td>\n",
       "      <td>NaN</td>\n",
       "    </tr>\n",
       "    <tr>\n",
       "      <th>1</th>\n",
       "      <td>2018s017842</td>\n",
       "      <td>04/02/2019</td>\n",
       "      <td>9:10:00</td>\n",
       "      <td>call. alberto aguilera, 1</td>\n",
       "      <td>1</td>\n",
       "      <td>1.0</td>\n",
       "      <td>centro</td>\n",
       "      <td>colision lateral</td>\n",
       "      <td>despejado</td>\n",
       "      <td>turismo</td>\n",
       "      <td>conductor</td>\n",
       "      <td>de 30 a 34 años</td>\n",
       "      <td>mujer</td>\n",
       "      <td>asistencia sanitaria solo en el lugar del acci...</td>\n",
       "      <td>440068,049</td>\n",
       "      <td>4475679,17</td>\n",
       "      <td>n</td>\n",
       "      <td>NaN</td>\n",
       "    </tr>\n",
       "  </tbody>\n",
       "</table>\n",
       "</div>"
      ],
      "text/plain": [
       "  num_expediente       fecha     hora               localizacion numero  \\\n",
       "0    2018s017842  04/02/2019  9:10:00  call. alberto aguilera, 1      1   \n",
       "1    2018s017842  04/02/2019  9:10:00  call. alberto aguilera, 1      1   \n",
       "\n",
       "   cod_distrito distrito    tipo_accidente  condicion        tipo_vehiculo  \\\n",
       "0           1.0   centro  colision lateral  despejado  motocicleta > 125cc   \n",
       "1           1.0   centro  colision lateral  despejado              turismo   \n",
       "\n",
       "  tipo_persona       rango_edad    sexo  \\\n",
       "0    conductor  de 45 a 49 años  hombre   \n",
       "1    conductor  de 30 a 34 años   mujer   \n",
       "\n",
       "                                           lesividad coordenada_x_utm  \\\n",
       "0  asistencia sanitaria solo en el lugar del acci...       440068,049   \n",
       "1  asistencia sanitaria solo en el lugar del acci...       440068,049   \n",
       "\n",
       "  coordenada_y_utm positiva_alcohol  positiva_droga  \n",
       "0       4475679,17                n             NaN  \n",
       "1       4475679,17                n             NaN  "
      ]
     },
     "execution_count": 150,
     "metadata": {},
     "output_type": "execute_result"
    }
   ],
   "source": [
    "df_2.head(2)"
   ]
  },
  {
   "cell_type": "markdown",
   "metadata": {},
   "source": [
    "# TRATAR DATOS"
   ]
  },
  {
   "cell_type": "markdown",
   "metadata": {},
   "source": [
    "------------------------------------------------------------------------------------------------------------------------------------------------------------------------------------"
   ]
  },
  {
   "cell_type": "markdown",
   "metadata": {},
   "source": [
    "# COLUMNA FECHA"
   ]
  },
  {
   "cell_type": "code",
   "execution_count": 151,
   "metadata": {},
   "outputs": [],
   "source": [
    "#Convertir fechas a Datetime\n",
    "\n",
    "def fecha_df_antiguos(*dfs):\n",
    "    for df in dfs:\n",
    "        df[\"fecha\"] = pd.to_datetime(df[\"fecha\"], format=\"%d/%m/%Y\")\n",
    "        df.drop(columns=[\"dia semana\"], inplace=True)\n",
    "\n",
    "def fecha_df_nuevos(*dfs):\n",
    "    for df in dfs:\n",
    "        df[\"fecha\"] = pd.to_datetime(df[\"fecha\"], format=\"%d/%m/%Y\")\n",
    "\n",
    "fecha_df_antiguos(df_1)\n",
    "fecha_df_nuevos(df_2)"
   ]
  },
  {
   "cell_type": "markdown",
   "metadata": {},
   "source": [
    "# COLUMNA RANGO HORARIO\n",
    "- 2010 - 2018:  Se reemplazan las horas intermedias para obtener un rango de hora más sencillo. \n"
   ]
  },
  {
   "cell_type": "code",
   "execution_count": 152,
   "metadata": {},
   "outputs": [],
   "source": [
    "def primera_hora(rango):\n",
    "    hora = re.findall(r'\\d{1,2}:\\d{2}', rango)[0]\n",
    "    return hora\n",
    "\n",
    "def aplicar_hora(df):\n",
    "        df['rango horario'] = df['rango horario'].apply(primera_hora)\n",
    "\n",
    "aplicar_hora(df_1)"
   ]
  },
  {
   "cell_type": "code",
   "execution_count": 153,
   "metadata": {},
   "outputs": [],
   "source": [
    "df_1.rename(columns={'rango horario': 'rango_horario'}, inplace=True)"
   ]
  },
  {
   "cell_type": "markdown",
   "metadata": {},
   "source": [
    "- 2019 - 2024: Se reemplazan las horas intermedias para obtener un rango de hora más sencillo. "
   ]
  },
  {
   "cell_type": "code",
   "execution_count": 154,
   "metadata": {},
   "outputs": [],
   "source": [
    "def formatear_horario(horario):\n",
    "    partes = horario.split(':')\n",
    "    hora = partes[0]\n",
    "    minutos = '00'    \n",
    "    horario_formateado = f\"{hora}:{minutos}\"\n",
    "    return horario_formateado\n",
    "\n",
    "def aplicar_horario(*dfs):\n",
    "    for df in dfs:\n",
    "        df[\"rango_horario\"] = df[\"hora\"].apply(formatear_horario)\n",
    "        del df[\"hora\"]  \n",
    "\n",
    "aplicar_horario(df_2)"
   ]
  },
  {
   "cell_type": "code",
   "execution_count": 155,
   "metadata": {},
   "outputs": [
    {
     "data": {
      "text/html": [
       "<div>\n",
       "<style scoped>\n",
       "    .dataframe tbody tr th:only-of-type {\n",
       "        vertical-align: middle;\n",
       "    }\n",
       "\n",
       "    .dataframe tbody tr th {\n",
       "        vertical-align: top;\n",
       "    }\n",
       "\n",
       "    .dataframe thead th {\n",
       "        text-align: right;\n",
       "    }\n",
       "</style>\n",
       "<table border=\"1\" class=\"dataframe\">\n",
       "  <thead>\n",
       "    <tr style=\"text-align: right;\">\n",
       "      <th></th>\n",
       "      <th>num_expediente</th>\n",
       "      <th>fecha</th>\n",
       "      <th>localizacion</th>\n",
       "      <th>numero</th>\n",
       "      <th>cod_distrito</th>\n",
       "      <th>distrito</th>\n",
       "      <th>tipo_accidente</th>\n",
       "      <th>condicion</th>\n",
       "      <th>tipo_vehiculo</th>\n",
       "      <th>tipo_persona</th>\n",
       "      <th>rango_edad</th>\n",
       "      <th>sexo</th>\n",
       "      <th>lesividad</th>\n",
       "      <th>coordenada_x_utm</th>\n",
       "      <th>coordenada_y_utm</th>\n",
       "      <th>positiva_alcohol</th>\n",
       "      <th>positiva_droga</th>\n",
       "      <th>rango_horario</th>\n",
       "      <th>fecha_completa</th>\n",
       "    </tr>\n",
       "  </thead>\n",
       "  <tbody>\n",
       "    <tr>\n",
       "      <th>0</th>\n",
       "      <td>2018s017842</td>\n",
       "      <td>2019-02-04</td>\n",
       "      <td>call. alberto aguilera, 1</td>\n",
       "      <td>1</td>\n",
       "      <td>1.0</td>\n",
       "      <td>centro</td>\n",
       "      <td>colision lateral</td>\n",
       "      <td>despejado</td>\n",
       "      <td>motocicleta &gt; 125cc</td>\n",
       "      <td>conductor</td>\n",
       "      <td>de 45 a 49 años</td>\n",
       "      <td>hombre</td>\n",
       "      <td>asistencia sanitaria solo en el lugar del acci...</td>\n",
       "      <td>440068,049</td>\n",
       "      <td>4475679,17</td>\n",
       "      <td>n</td>\n",
       "      <td>NaN</td>\n",
       "      <td>0 days 09:00:00</td>\n",
       "      <td>2019-02-04 09:00:00</td>\n",
       "    </tr>\n",
       "    <tr>\n",
       "      <th>1</th>\n",
       "      <td>2018s017842</td>\n",
       "      <td>2019-02-04</td>\n",
       "      <td>call. alberto aguilera, 1</td>\n",
       "      <td>1</td>\n",
       "      <td>1.0</td>\n",
       "      <td>centro</td>\n",
       "      <td>colision lateral</td>\n",
       "      <td>despejado</td>\n",
       "      <td>turismo</td>\n",
       "      <td>conductor</td>\n",
       "      <td>de 30 a 34 años</td>\n",
       "      <td>mujer</td>\n",
       "      <td>asistencia sanitaria solo en el lugar del acci...</td>\n",
       "      <td>440068,049</td>\n",
       "      <td>4475679,17</td>\n",
       "      <td>n</td>\n",
       "      <td>NaN</td>\n",
       "      <td>0 days 09:00:00</td>\n",
       "      <td>2019-02-04 09:00:00</td>\n",
       "    </tr>\n",
       "  </tbody>\n",
       "</table>\n",
       "</div>"
      ],
      "text/plain": [
       "  num_expediente      fecha               localizacion numero  cod_distrito  \\\n",
       "0    2018s017842 2019-02-04  call. alberto aguilera, 1      1           1.0   \n",
       "1    2018s017842 2019-02-04  call. alberto aguilera, 1      1           1.0   \n",
       "\n",
       "  distrito    tipo_accidente  condicion        tipo_vehiculo tipo_persona  \\\n",
       "0   centro  colision lateral  despejado  motocicleta > 125cc    conductor   \n",
       "1   centro  colision lateral  despejado              turismo    conductor   \n",
       "\n",
       "        rango_edad    sexo                                          lesividad  \\\n",
       "0  de 45 a 49 años  hombre  asistencia sanitaria solo en el lugar del acci...   \n",
       "1  de 30 a 34 años   mujer  asistencia sanitaria solo en el lugar del acci...   \n",
       "\n",
       "  coordenada_x_utm coordenada_y_utm positiva_alcohol  positiva_droga  \\\n",
       "0       440068,049       4475679,17                n             NaN   \n",
       "1       440068,049       4475679,17                n             NaN   \n",
       "\n",
       "    rango_horario      fecha_completa  \n",
       "0 0 days 09:00:00 2019-02-04 09:00:00  \n",
       "1 0 days 09:00:00 2019-02-04 09:00:00  "
      ]
     },
     "execution_count": 155,
     "metadata": {},
     "output_type": "execute_result"
    }
   ],
   "source": [
    "def combinar_fecha_y_rango_horario(df):\n",
    "    # Agregar segundos a la columna rango horario\n",
    "    df['rango_horario'] = df['rango_horario'] + ':00'\n",
    "    # Convertir la columna 'rango horario' a tipo timedelta\n",
    "    df['rango_horario'] = pd.to_timedelta(df['rango_horario'])\n",
    "\n",
    "    # Sumar 'fecha' y 'rango horario' para obtener la nueva columna 'fecha_completa'\n",
    "    df['fecha_completa'] = df['fecha'] + df['rango_horario']\n",
    "    return df.head(2)\n",
    "\n",
    "combinar_fecha_y_rango_horario(df_1)\n",
    "combinar_fecha_y_rango_horario(df_2)"
   ]
  },
  {
   "cell_type": "markdown",
   "metadata": {},
   "source": [
    "# COLUMNA DISTRITO\n",
    "- 2010 - 2018: Eliminar espacios en blanco y nombrar al distrito igual a los otros df\n"
   ]
  },
  {
   "cell_type": "code",
   "execution_count": 156,
   "metadata": {},
   "outputs": [],
   "source": [
    "def limpiar_columna_distrito(*dfs):\n",
    "    for df in dfs:\n",
    "        df['distrito'] = df['distrito'].str.strip().replace(\"san blas\", \"san blas-canillejas\")\n",
    "\n",
    "# Llamada a la función con los DataFrames df_2010, df_2011, ..., df_2018\n",
    "limpiar_columna_distrito(df_1)"
   ]
  },
  {
   "cell_type": "markdown",
   "metadata": {},
   "source": [
    "- 2019 - 2024: Eliminar la columna cod_distrito porque no aporta información "
   ]
  },
  {
   "cell_type": "code",
   "execution_count": 157,
   "metadata": {},
   "outputs": [],
   "source": [
    "def eliminar_codigo_distrito(*dfs):\n",
    "    for df in dfs:\n",
    "        df.drop(columns=[\"cod_distrito\"], inplace=True)\n",
    "eliminar_codigo_distrito(df_2)"
   ]
  },
  {
   "cell_type": "markdown",
   "metadata": {},
   "source": [
    "Clasificación de la variable 'distrito' para transformar en dummies:\n",
    "\n",
    "Centro - Código: 01\n",
    "Arganzuela - Código: 02\n",
    "Retiro - Código: 03\n",
    "Salamanca - Código: 04\n",
    "Chamartín - Código: 05\n",
    "Tetuán - Código: 06\n",
    "Chamberí - Código: 07\n",
    "Fuencarral-El Pardo - Código: 08\n",
    "Moncloa-Aravaca - Código: 09\n",
    "\n",
    "Latina - Código: 10\n",
    "Carabanchel - Código: 11\n",
    "Usera - Código: 12\n",
    "Puente de Vallecas - Código: 13\n",
    "Moratalaz - Código: 14\n",
    "Ciudad Lineal - Código: 15\n",
    "Hortaleza - Código: 16\n",
    "Villaverde - Código: 17\n",
    "Villa de Vallecas - Código: 18\n",
    "\n",
    "Vicálvaro - Código: 19\n",
    "San Blas-Canillejas - Código: 20\n",
    "Barajas - Código: 21"
   ]
  },
  {
   "cell_type": "markdown",
   "metadata": {},
   "source": [
    "# COLUMNA RANGO EDAD\n",
    "Se cambian los rangos de edades a valores numéricos(int): \n",
    "- Menor de 5 años: 1\n",
    "- De 6 a 9 años: 2\n",
    "- De 10 a 14 años: 3\n",
    "- De 15 a 17 años: 4\n",
    "- De 18 a 20 años: 5\n",
    "- De 21 a 24 años: 6\n",
    "- De 25 a 29 años: 7\n",
    "- De 30 a 34 años: 8\n",
    "- De 35 a 39 años: 9\n",
    "- De 40 a 44 años: 10\n",
    "- De 45 a 49 años: 11\n",
    "- De 50 a 54 años: 12\n",
    "- De 55 a 59 años: 13\n",
    "- De 60 a 64 años: 14\n",
    "- De 65 a 69 años: 15\n",
    "- De 70 a 74 años: 16\n",
    "- Más de 74 años: 17\n"
   ]
  },
  {
   "cell_type": "code",
   "execution_count": 158,
   "metadata": {},
   "outputs": [],
   "source": [
    "diccionario_edades = {\n",
    "    'menor de 5 años'   : 1,\n",
    "    'de 0 a 5 años'     : 1,\n",
    "    'de 6 a 9 años'     : 2,\n",
    "    'de 6 a 9 años '    : 2,\n",
    "    'de 10 a 14 años'   : 3,\n",
    "    'de 15 a 17 años'   : 4,\n",
    "    'de 18 a 20 años'   : 5,\n",
    "    'de 21 a 24 años'   : 6,\n",
    "    'de 25 a 29 años'   : 7,\n",
    "    'de 30 a 34 años'   : 8,\n",
    "    'de 30 a 34 anos'   : 8,\n",
    "    'de 35 a 39 años'   : 9,\n",
    "    'de 40 a 44 años'   : 10,\n",
    "    'de 45 a 49 años'   : 11,\n",
    "    'de 50 a 54 años'   : 12,\n",
    "    'de 55 a 59 años'   : 13,\n",
    "    'de 60 a 64 años'   : 14,\n",
    "    'de 65 a 69 años'   : 15,\n",
    "    'de 70 a 74 años'   : 16,\n",
    "    'mas de 74 años'    : 17,\n",
    "    'de mas de 74 años ': 17,\n",
    "    'de más de 74 años' : 17,\n",
    "    'desconocido'       : np.nan,\n",
    "    'desconocida'       : np.nan\n",
    "}\n",
    "\n",
    "def reemplazar_edades(df):\n",
    "        df['rango_edad'] = df['tramo edad'].apply(lambda x : diccionario_edades[x] if x in diccionario_edades and pd.isna(x) == False else x)\n",
    "        # df['rango_edad'] = pd.to_numeric(df['rango_edad'], errors='coerce').astype('Int64')\n",
    "        df.drop(columns=[\"tramo edad\"], inplace=True)\n",
    "        \n",
    "\n",
    "reemplazar_edades(df_1)"
   ]
  },
  {
   "cell_type": "code",
   "execution_count": 159,
   "metadata": {},
   "outputs": [],
   "source": [
    "\n",
    "def reemplazar_edades(df):\n",
    "    df['rango_edad'] = df['rango_edad'].apply(lambda x : diccionario_edades[x] if x in diccionario_edades and pd.isna(x) == False else x)\n",
    "        # df['rango_edad'] = pd.to_numeric(df['rango_edad'], errors='coerce').astype('Int64')\n",
    "\n",
    "\n",
    "reemplazar_edades(df_2)"
   ]
  },
  {
   "cell_type": "markdown",
   "metadata": {},
   "source": [
    "# COLUMNA SEXO\n",
    "Reemplazar los nulos por nan"
   ]
  },
  {
   "cell_type": "code",
   "execution_count": 160,
   "metadata": {},
   "outputs": [],
   "source": [
    "def reemplazar_sexo(*dfs):\n",
    "    for df in dfs:\n",
    "        df['sexo'] = df['sexo'].replace(\"desconocido\", np.nan)\n",
    "        df['sexo'] = df['sexo'].replace(\"no asignado\", np.nan)\n",
    "\n",
    "reemplazar_sexo(df_1, df_2)"
   ]
  },
  {
   "cell_type": "markdown",
   "metadata": {},
   "source": [
    "# COLUMNA TIPO ACCIDENTE\n",
    "\n",
    "Se cambian algunas variables dentro de 'tipo_accidente' de ambos Dataframes para mayor homogeneidad en los datos."
   ]
  },
  {
   "cell_type": "code",
   "execution_count": 161,
   "metadata": {},
   "outputs": [],
   "source": [
    "tipo_accidente = {\n",
    "    \"colision doble\"               : \"colision doble\",\n",
    "    \"choque con objeto fijo\"       : \"choque con objeto fijo\",\n",
    "    \"atropello\"                    : \"atropello\",\n",
    "    \"otras causas\"                 : \"otras causas\",\n",
    "    \"alcance\"                      : \"colision doble\",\n",
    "    \"colision fronto-lateral\"      : \"colision doble\",\n",
    "    \"choque contra obstaculo fijo\" : \"choque con objeto fijo\",\n",
    "    \"colision lateral\"             : \"colision doble\",\n",
    "    \"otro\"                         : \"otras causas\",\n",
    "    \"atropello a persona\"          : \"atropello\",\n",
    "    \"colision multiple\"            : \"colision multiple\",\n",
    "    \"solo salida de la via\"        : \"otras causas\",\n",
    "    \"colision frontal\"             : \"colision doble\",\n",
    "    \"caida viajero bus\"            : \"caida\",\n",
    "    \"caida ciclomotor\"             : \"caida\",\n",
    "    \"caida motocicleta\"            : \"caida\",\n",
    "    \"caida bicicleta\"              : \"caida\",\n",
    "    \"caida\"                        : \"caida\",\n",
    "    \"vuelco\"                       : \"vuelco\",\n",
    "    \"atropello a animal\"           : \"atropello\",\n",
    "    \"despeñamiento\"                : \"otras causas\"\n",
    "}"
   ]
  },
  {
   "cell_type": "code",
   "execution_count": 162,
   "metadata": {},
   "outputs": [],
   "source": [
    "def df_antiguos_accidentes_comunes(*dfs):\n",
    "    for df in dfs:\n",
    "        df['tipo_accidente'] = df['tipo accidente'].str.strip().map(tipo_accidente)\n",
    "        df.drop(columns=[\"tipo accidente\"], inplace=True)\n",
    "        \n",
    "df_antiguos_accidentes_comunes(df_1)"
   ]
  },
  {
   "cell_type": "code",
   "execution_count": 163,
   "metadata": {},
   "outputs": [],
   "source": [
    "def df_nuevos_accidentes_comunes(*dfs):\n",
    "    for df in dfs:\n",
    "        df['tipo_accidente'] = df['tipo_accidente'].map(tipo_accidente)\n",
    "        \n",
    "df_nuevos_accidentes_comunes(df_2)"
   ]
  },
  {
   "cell_type": "code",
   "execution_count": 164,
   "metadata": {},
   "outputs": [
    {
     "data": {
      "text/plain": [
       "array(['colision doble', 'colision multiple', 'choque con objeto fijo',\n",
       "       'caida', 'atropello', 'vuelco', 'otras causas', nan], dtype=object)"
      ]
     },
     "execution_count": 164,
     "metadata": {},
     "output_type": "execute_result"
    }
   ],
   "source": [
    "df_1[\"tipo_accidente\"].unique()"
   ]
  },
  {
   "cell_type": "code",
   "execution_count": 165,
   "metadata": {},
   "outputs": [
    {
     "data": {
      "text/plain": [
       "array(['colision doble', 'choque con objeto fijo', 'caida',\n",
       "       'otras causas', 'atropello', 'colision multiple', 'vuelco', nan],\n",
       "      dtype=object)"
      ]
     },
     "execution_count": 165,
     "metadata": {},
     "output_type": "execute_result"
    }
   ],
   "source": [
    "df_2[\"tipo_accidente\"].unique()"
   ]
  },
  {
   "cell_type": "markdown",
   "metadata": {},
   "source": [
    "# COLUMNA TIPO PERSONA"
   ]
  },
  {
   "cell_type": "code",
   "execution_count": 166,
   "metadata": {},
   "outputs": [],
   "source": [
    "persona_implicada = {\n",
    "    \"conductor\": \"conductor\",\n",
    "    \"pasajero\" : \"pasajero\",\n",
    "    \"peaton\"   : \"peaton\",\n",
    "    \"viajero\"  : \"pasajero\",\n",
    "    \"testigo\"  : \"peaton\",\n",
    "}"
   ]
  },
  {
   "cell_type": "code",
   "execution_count": 167,
   "metadata": {},
   "outputs": [],
   "source": [
    "def df_antiguos_implicados(*dfs):\n",
    "    for df in dfs:\n",
    "        df['persona_implicada'] = df['tipo persona'].str.strip().map(persona_implicada)\n",
    "        df.drop(columns=[\"tipo persona\"], inplace=True)\n",
    "        \n",
    "df_antiguos_implicados(df_1)"
   ]
  },
  {
   "cell_type": "code",
   "execution_count": 168,
   "metadata": {},
   "outputs": [],
   "source": [
    "def df_nuevos_implicados(*dfs):\n",
    "    for df in dfs:\n",
    "        df['persona_implicada'] = df['tipo_persona'].map(persona_implicada)\n",
    "        df.drop(columns=[\"tipo_persona\"], inplace=True)\n",
    "        \n",
    "df_nuevos_implicados(df_2)"
   ]
  },
  {
   "cell_type": "code",
   "execution_count": 169,
   "metadata": {},
   "outputs": [
    {
     "data": {
      "text/plain": [
       "array(['conductor', 'pasajero', 'peaton'], dtype=object)"
      ]
     },
     "execution_count": 169,
     "metadata": {},
     "output_type": "execute_result"
    }
   ],
   "source": [
    "df_1[\"persona_implicada\"].unique()"
   ]
  },
  {
   "cell_type": "code",
   "execution_count": 170,
   "metadata": {},
   "outputs": [
    {
     "data": {
      "text/plain": [
       "array(['conductor', 'pasajero', 'peaton', nan], dtype=object)"
      ]
     },
     "execution_count": 170,
     "metadata": {},
     "output_type": "execute_result"
    }
   ],
   "source": [
    "df_2[\"persona_implicada\"].unique()"
   ]
  },
  {
   "cell_type": "markdown",
   "metadata": {},
   "source": [
    "# COLUMNA ESTADO METEOROLÓGICO\n",
    "Se crean tres rangos, de mejor a peor:\n",
    "- Favorable\n",
    "- Desfavorable\n",
    "- Adverso"
   ]
  },
  {
   "cell_type": "code",
   "execution_count": 171,
   "metadata": {},
   "outputs": [
    {
     "data": {
      "text/html": [
       "<div>\n",
       "<style scoped>\n",
       "    .dataframe tbody tr th:only-of-type {\n",
       "        vertical-align: middle;\n",
       "    }\n",
       "\n",
       "    .dataframe tbody tr th {\n",
       "        vertical-align: top;\n",
       "    }\n",
       "\n",
       "    .dataframe thead th {\n",
       "        text-align: right;\n",
       "    }\n",
       "</style>\n",
       "<table border=\"1\" class=\"dataframe\">\n",
       "  <thead>\n",
       "    <tr style=\"text-align: right;\">\n",
       "      <th></th>\n",
       "      <th>Columna</th>\n",
       "      <th>Respuesta</th>\n",
       "      <th>Conteo</th>\n",
       "    </tr>\n",
       "  </thead>\n",
       "  <tbody>\n",
       "    <tr>\n",
       "      <th>0</th>\n",
       "      <td>cpfa granizo</td>\n",
       "      <td>no</td>\n",
       "      <td>252964</td>\n",
       "    </tr>\n",
       "    <tr>\n",
       "      <th>1</th>\n",
       "      <td>cpfa granizo</td>\n",
       "      <td>si</td>\n",
       "      <td>34</td>\n",
       "    </tr>\n",
       "    <tr>\n",
       "      <th>2</th>\n",
       "      <td>cpfa hielo</td>\n",
       "      <td>no</td>\n",
       "      <td>252788</td>\n",
       "    </tr>\n",
       "    <tr>\n",
       "      <th>3</th>\n",
       "      <td>cpfa hielo</td>\n",
       "      <td>si</td>\n",
       "      <td>210</td>\n",
       "    </tr>\n",
       "    <tr>\n",
       "      <th>4</th>\n",
       "      <td>cpfa lluvia</td>\n",
       "      <td>no</td>\n",
       "      <td>224626</td>\n",
       "    </tr>\n",
       "    <tr>\n",
       "      <th>5</th>\n",
       "      <td>cpfa lluvia</td>\n",
       "      <td>si</td>\n",
       "      <td>28372</td>\n",
       "    </tr>\n",
       "    <tr>\n",
       "      <th>6</th>\n",
       "      <td>cpfa niebla</td>\n",
       "      <td>no</td>\n",
       "      <td>252410</td>\n",
       "    </tr>\n",
       "    <tr>\n",
       "      <th>7</th>\n",
       "      <td>cpfa niebla</td>\n",
       "      <td>si</td>\n",
       "      <td>588</td>\n",
       "    </tr>\n",
       "    <tr>\n",
       "      <th>8</th>\n",
       "      <td>cpfa seco</td>\n",
       "      <td>no</td>\n",
       "      <td>29255</td>\n",
       "    </tr>\n",
       "    <tr>\n",
       "      <th>9</th>\n",
       "      <td>cpfa seco</td>\n",
       "      <td>si</td>\n",
       "      <td>223743</td>\n",
       "    </tr>\n",
       "    <tr>\n",
       "      <th>10</th>\n",
       "      <td>cpfa nieve</td>\n",
       "      <td>no</td>\n",
       "      <td>252645</td>\n",
       "    </tr>\n",
       "    <tr>\n",
       "      <th>11</th>\n",
       "      <td>cpfa nieve</td>\n",
       "      <td>si</td>\n",
       "      <td>353</td>\n",
       "    </tr>\n",
       "    <tr>\n",
       "      <th>12</th>\n",
       "      <td>cpsv mojada</td>\n",
       "      <td>no</td>\n",
       "      <td>220421</td>\n",
       "    </tr>\n",
       "    <tr>\n",
       "      <th>13</th>\n",
       "      <td>cpsv mojada</td>\n",
       "      <td>si</td>\n",
       "      <td>32577</td>\n",
       "    </tr>\n",
       "    <tr>\n",
       "      <th>14</th>\n",
       "      <td>cpsv aceite</td>\n",
       "      <td>no</td>\n",
       "      <td>252438</td>\n",
       "    </tr>\n",
       "    <tr>\n",
       "      <th>15</th>\n",
       "      <td>cpsv aceite</td>\n",
       "      <td>si</td>\n",
       "      <td>560</td>\n",
       "    </tr>\n",
       "    <tr>\n",
       "      <th>16</th>\n",
       "      <td>cpsv barro</td>\n",
       "      <td>no</td>\n",
       "      <td>252794</td>\n",
       "    </tr>\n",
       "    <tr>\n",
       "      <th>17</th>\n",
       "      <td>cpsv barro</td>\n",
       "      <td>si</td>\n",
       "      <td>204</td>\n",
       "    </tr>\n",
       "    <tr>\n",
       "      <th>18</th>\n",
       "      <td>cpsv grava suelta</td>\n",
       "      <td>no</td>\n",
       "      <td>252378</td>\n",
       "    </tr>\n",
       "    <tr>\n",
       "      <th>19</th>\n",
       "      <td>cpsv grava suelta</td>\n",
       "      <td>si</td>\n",
       "      <td>620</td>\n",
       "    </tr>\n",
       "    <tr>\n",
       "      <th>20</th>\n",
       "      <td>cpsv hielo</td>\n",
       "      <td>no</td>\n",
       "      <td>252639</td>\n",
       "    </tr>\n",
       "    <tr>\n",
       "      <th>21</th>\n",
       "      <td>cpsv hielo</td>\n",
       "      <td>si</td>\n",
       "      <td>359</td>\n",
       "    </tr>\n",
       "    <tr>\n",
       "      <th>22</th>\n",
       "      <td>cpsv seca y limpia</td>\n",
       "      <td>no</td>\n",
       "      <td>34776</td>\n",
       "    </tr>\n",
       "    <tr>\n",
       "      <th>23</th>\n",
       "      <td>cpsv seca y limpia</td>\n",
       "      <td>si</td>\n",
       "      <td>218222</td>\n",
       "    </tr>\n",
       "  </tbody>\n",
       "</table>\n",
       "</div>"
      ],
      "text/plain": [
       "               Columna Respuesta  Conteo\n",
       "0         cpfa granizo        no  252964\n",
       "1         cpfa granizo        si      34\n",
       "2           cpfa hielo        no  252788\n",
       "3           cpfa hielo        si     210\n",
       "4          cpfa lluvia        no  224626\n",
       "5          cpfa lluvia        si   28372\n",
       "6          cpfa niebla        no  252410\n",
       "7          cpfa niebla        si     588\n",
       "8            cpfa seco        no   29255\n",
       "9            cpfa seco        si  223743\n",
       "10          cpfa nieve        no  252645\n",
       "11          cpfa nieve        si     353\n",
       "12         cpsv mojada        no  220421\n",
       "13         cpsv mojada        si   32577\n",
       "14         cpsv aceite        no  252438\n",
       "15         cpsv aceite        si     560\n",
       "16          cpsv barro        no  252794\n",
       "17          cpsv barro        si     204\n",
       "18   cpsv grava suelta        no  252378\n",
       "19   cpsv grava suelta        si     620\n",
       "20          cpsv hielo        no  252639\n",
       "21          cpsv hielo        si     359\n",
       "22  cpsv seca y limpia        no   34776\n",
       "23  cpsv seca y limpia        si  218222"
      ]
     },
     "execution_count": 171,
     "metadata": {},
     "output_type": "execute_result"
    }
   ],
   "source": [
    "columnas_tiempo_borrar = ['cpfa granizo', \n",
    "                          'cpfa hielo', \n",
    "                          'cpfa lluvia', \n",
    "                          'cpfa niebla',\n",
    "                          'cpfa seco', \n",
    "                          'cpfa nieve', \n",
    "                          'cpsv mojada', \n",
    "                          'cpsv aceite', \n",
    "                          'cpsv barro',\n",
    "                          'cpsv grava suelta', \n",
    "                          'cpsv hielo', \n",
    "                          'cpsv seca y limpia']\n",
    "\n",
    "df_tiempo = pd.DataFrame(columns=['Columna', 'Respuesta', 'Conteo'])\n",
    "\n",
    "# Iterar sobre las columnas de interés y hacer groupby para contar las ocurrencias de cada respuesta\n",
    "for columna in columnas_tiempo_borrar:\n",
    "    conteo_respuestas = df_1.groupby(columna).size().reset_index(name='Conteo')\n",
    "    conteo_respuestas['Columna'] = columna\n",
    "    conteo_respuestas.rename(columns={columna: 'Respuesta'}, inplace=True)\n",
    "    df_tiempo = pd.concat([df_tiempo, conteo_respuestas], ignore_index=True)\n",
    "\n",
    "df_tiempo"
   ]
  },
  {
   "cell_type": "code",
   "execution_count": 172,
   "metadata": {},
   "outputs": [],
   "source": [
    "columnas_tiempo = {'cpfa granizo'      : \"adverso\", \n",
    "                   'cpfa hielo'        : \"adverso\", \n",
    "                   'cpfa lluvia'       : \"adverso\", \n",
    "                   'cpfa niebla'       : \"desfavorable\",\n",
    "                   'cpfa seco'         : \"favorable\", \n",
    "                   'cpfa nieve'        : \"adverso\", \n",
    "                   'cpsv mojada'       : \"desfavorable\", \n",
    "                   'cpsv aceite'       : \"adverso\", \n",
    "                   'cpsv barro'        : \"adverso\",\n",
    "                   'cpsv grava suelta' : \"adverso\", \n",
    "                   'cpsv hielo'        : \"adverso\", \n",
    "                   'cpsv seca y limpia': \"favorable\"}\n",
    "\n",
    "# quedarse con la peor: \n",
    "prioridades = {\"favorable\": 1, \"desfavorable\": 2, \"adverso\": 3}\n",
    "\n",
    "def estado_mas_desfavorable(lista):\n",
    "    return min(lista, key=lambda x: prioridades[x])\n",
    "\n",
    "\n",
    "def df_antiguos_tiempo(*dfs):\n",
    "    for df in dfs:\n",
    "        df['condicion'] = df.apply(lambda x: [columnas_tiempo[col] for col in columnas_tiempo if x[col] == 'si'], axis=1)\n",
    "        df.drop(columnas_tiempo_borrar, axis=1, inplace=True)\n",
    "        df['condicion'] = df['condicion'].apply(estado_mas_desfavorable)\n",
    "\n",
    "\n",
    "df_antiguos_tiempo(df_1)"
   ]
  },
  {
   "cell_type": "code",
   "execution_count": 173,
   "metadata": {},
   "outputs": [],
   "source": [
    "tiempo= {'despejado'    : \"favorable\", \n",
    "         'nublado'      : \"favorable\", \n",
    "         'lluvia debil' : \"desfavorable\", \n",
    "         'se desconoce' : np.nan,\n",
    "       'lluvia intensa' : \"adverso\", \n",
    "       'granizando'     : \"adverso\"}\n",
    "\n",
    "def df_nuevos_tiempo(*dfs):\n",
    "    for df in dfs:\n",
    "        df['condicion'] = df['condicion'].map(tiempo)\n",
    "\n",
    "df_nuevos_tiempo(df_2)"
   ]
  },
  {
   "cell_type": "markdown",
   "metadata": {},
   "source": [
    "# VICTIMAS"
   ]
  },
  {
   "cell_type": "code",
   "execution_count": 174,
   "metadata": {},
   "outputs": [],
   "source": [
    "# Creamos 2 columnas para poder unir \n",
    "def df_victimas(df):\n",
    "        df['victimas'] = np.nan\n",
    "\n",
    "df_victimas(df_2)"
   ]
  },
  {
   "cell_type": "code",
   "execution_count": 175,
   "metadata": {},
   "outputs": [],
   "source": [
    "df_1.rename(columns={'nº victimas': 'victimas'}, inplace=True)"
   ]
  },
  {
   "cell_type": "markdown",
   "metadata": {},
   "source": [
    "# COORDENADAS"
   ]
  },
  {
   "cell_type": "code",
   "execution_count": 176,
   "metadata": {},
   "outputs": [],
   "source": [
    "# Creamos 2 columnas para poder unir \n",
    "def df_antiguos_coordenadas(df):\n",
    "        df['coordenada_x'] = np.nan\n",
    "        df['coordenada_y'] = np.nan\n",
    "\n",
    "df_antiguos_coordenadas(df_1)"
   ]
  },
  {
   "cell_type": "code",
   "execution_count": 177,
   "metadata": {},
   "outputs": [],
   "source": [
    "df_2.rename(columns={'coordenada_x_utm': 'coordenada_x'}, inplace=True)\n",
    "df_2.rename(columns={'coordenada_y_utm': 'coordenada_y'}, inplace=True)"
   ]
  },
  {
   "cell_type": "markdown",
   "metadata": {},
   "source": [
    "# POSITIVO ALCOHOL\n"
   ]
  },
  {
   "cell_type": "code",
   "execution_count": 178,
   "metadata": {},
   "outputs": [],
   "source": [
    "# Creamos 2 columnas para poder unir \n",
    "def df_antiguos_alcohol_drogas(df):\n",
    "        df['positiva_alcohol'] = np.nan\n",
    "        df['positiva_droga'] = np.nan\n",
    "\n",
    "df_antiguos_alcohol_drogas(df_1)"
   ]
  },
  {
   "cell_type": "code",
   "execution_count": 179,
   "metadata": {},
   "outputs": [
    {
     "data": {
      "text/plain": [
       "array([nan])"
      ]
     },
     "execution_count": 179,
     "metadata": {},
     "output_type": "execute_result"
    }
   ],
   "source": [
    "df_1[\"positiva_alcohol\"].unique()"
   ]
  },
  {
   "cell_type": "code",
   "execution_count": 180,
   "metadata": {},
   "outputs": [],
   "source": [
    "def df_nuevos_alcohol(*dfs):\n",
    "    for df in dfs:\n",
    "        df['positiva_alcohol'] = df['positiva_alcohol'].map({'s': 1, 'n': 0})\n",
    "\n",
    "df_nuevos_alcohol(df_2)"
   ]
  },
  {
   "cell_type": "code",
   "execution_count": 181,
   "metadata": {},
   "outputs": [
    {
     "data": {
      "text/plain": [
       "166"
      ]
     },
     "execution_count": 181,
     "metadata": {},
     "output_type": "execute_result"
    }
   ],
   "source": [
    "len(df_2[(df_2['positiva_alcohol'] == 1) & (df_2['positiva_droga'] == 1)])"
   ]
  },
  {
   "cell_type": "markdown",
   "metadata": {},
   "source": [
    "# LESIVIDAD "
   ]
  },
  {
   "cell_type": "code",
   "execution_count": 182,
   "metadata": {},
   "outputs": [
    {
     "data": {
      "text/plain": [
       "array(['il                                      ',\n",
       "       'hl                                      ',\n",
       "       'hg                                      ', 'no asignada',\n",
       "       'mt                                      '], dtype=object)"
      ]
     },
     "execution_count": 182,
     "metadata": {},
     "output_type": "execute_result"
    }
   ],
   "source": [
    "df_1[\"lesividad\"].unique()"
   ]
  },
  {
   "cell_type": "code",
   "execution_count": 183,
   "metadata": {},
   "outputs": [
    {
     "data": {
      "text/plain": [
       "array(['asistencia sanitaria solo en el lugar del accidente', nan,\n",
       "       'ingreso inferior o igual a 24 horas', 'sin asistencia sanitaria',\n",
       "       'asistencia sanitaria ambulatoria con posterioridad',\n",
       "       'ingreso superior a 24 horas',\n",
       "       'atencion en urgencias sin posterior ingreso',\n",
       "       'asistencia sanitaria inmediata en centro de salud o mutua',\n",
       "       'fallecido 24 horas', 'se desconoce'], dtype=object)"
      ]
     },
     "execution_count": 183,
     "metadata": {},
     "output_type": "execute_result"
    }
   ],
   "source": [
    "df_2[\"lesividad\"].unique()"
   ]
  },
  {
   "cell_type": "code",
   "execution_count": 184,
   "metadata": {},
   "outputs": [],
   "source": [
    "diccionario_asistencia_sanitaria= {\n",
    "    'sin asistencia sanitaria'                                 : 'sin asistencia sanitaria',\n",
    "    'hl'                                                       : 'asistencia sanitaria sin ingreso',\n",
    "    'asistencia sanitaria inmediata en centro de salud o mutua': 'asistencia sanitaria sin ingreso',\n",
    "    'asistencia sanitaria ambulatoria con posterioridad'       : 'asistencia sanitaria sin ingreso',\n",
    "    'asistencia sanitaria solo en el lugar del accidente'      : 'asistencia sanitaria sin ingreso', \n",
    "    'atencion en urgencias sin posterior ingreso'              : 'asistencia sanitaria sin ingreso',\n",
    "    'il'                                                       : 'ingreso inferior 24h',\n",
    "    'ingreso inferior o igual a 24 horas'                      : 'ingreso inferior 24h',\n",
    "    'hg'                                                       : 'ingreso superior 24h',\n",
    "    'ingreso superior a 24 horas'                              : 'ingreso superior 24h',\n",
    "    'no asignada'                                              : np.nan,\n",
    "    'se desconoce'                                             : np.nan,\n",
    "    'mt'                                                       : 'fallecido 24h',\n",
    "    'fallecido 24 horas'                                       : 'fallecido 24h'\n",
    "}"
   ]
  },
  {
   "cell_type": "code",
   "execution_count": 185,
   "metadata": {},
   "outputs": [],
   "source": [
    "def df_antiguos_asistencia(df):\n",
    "    df['lesividad'] = df['lesividad'].str.strip().map(diccionario_asistencia_sanitaria)\n",
    "\n",
    "def df_nuevos_asistencia(df):\n",
    "    df['lesividad'] = df['lesividad'].map(diccionario_asistencia_sanitaria)\n"
   ]
  },
  {
   "cell_type": "code",
   "execution_count": 186,
   "metadata": {},
   "outputs": [],
   "source": [
    "df_antiguos_asistencia(df_1)\n",
    "df_nuevos_asistencia(df_2)"
   ]
  },
  {
   "cell_type": "code",
   "execution_count": 187,
   "metadata": {},
   "outputs": [
    {
     "data": {
      "text/plain": [
       "array(['ingreso inferior 24h', 'asistencia sanitaria sin ingreso',\n",
       "       'ingreso superior 24h', nan, 'fallecido 24h'], dtype=object)"
      ]
     },
     "execution_count": 187,
     "metadata": {},
     "output_type": "execute_result"
    }
   ],
   "source": [
    "df_1[\"lesividad\"].unique()"
   ]
  },
  {
   "cell_type": "code",
   "execution_count": 188,
   "metadata": {},
   "outputs": [
    {
     "data": {
      "text/plain": [
       "array(['asistencia sanitaria sin ingreso', nan, 'ingreso inferior 24h',\n",
       "       'sin asistencia sanitaria', 'ingreso superior 24h',\n",
       "       'fallecido 24h'], dtype=object)"
      ]
     },
     "execution_count": 188,
     "metadata": {},
     "output_type": "execute_result"
    }
   ],
   "source": [
    "df_2[\"lesividad\"].unique()"
   ]
  },
  {
   "cell_type": "markdown",
   "metadata": {},
   "source": [
    "# ACCIDENTE ID"
   ]
  },
  {
   "cell_type": "code",
   "execution_count": 189,
   "metadata": {},
   "outputs": [
    {
     "data": {
      "text/plain": [
       "fecha                None\n",
       "rango_horario        None\n",
       "distrito             None\n",
       "localizacion         None\n",
       "numero               None\n",
       "nº parte             None\n",
       "victimas             None\n",
       "tipo_vehiculo        None\n",
       "sexo                 None\n",
       "lesividad            None\n",
       "fecha_completa       None\n",
       "rango_edad           None\n",
       "tipo_accidente       None\n",
       "persona_implicada    None\n",
       "condicion            None\n",
       "coordenada_x         None\n",
       "coordenada_y         None\n",
       "positiva_alcohol     None\n",
       "positiva_droga       None\n",
       "dtype: object"
      ]
     },
     "execution_count": 189,
     "metadata": {},
     "output_type": "execute_result"
    }
   ],
   "source": [
    "def generar_accidente_id(df):\n",
    "    df_1['valor_id'] = df_1['nº parte'].apply(lambda x: x.split('/')[1])\n",
    "    df_1['año'] = df_1['fecha_completa'].dt.year\n",
    "    df_1['accidente_id'] = df_1['año'].astype(str) + '.' + df_1['valor_id'].astype(str)\n",
    "    df_1['accidente_id'] = df_1['accidente_id'].astype(float)\n",
    "    df_1.drop(columns = ['año', 'valor_id'], axis = 1, inplace = True)\n",
    "\n",
    "df_1.apply(generar_accidente_id)"
   ]
  },
  {
   "cell_type": "code",
   "execution_count": 190,
   "metadata": {},
   "outputs": [],
   "source": [
    "df_1.drop(['nº parte'], axis = 1, inplace = True)"
   ]
  },
  {
   "cell_type": "code",
   "execution_count": 191,
   "metadata": {},
   "outputs": [
    {
     "data": {
      "text/html": [
       "<div>\n",
       "<style scoped>\n",
       "    .dataframe tbody tr th:only-of-type {\n",
       "        vertical-align: middle;\n",
       "    }\n",
       "\n",
       "    .dataframe tbody tr th {\n",
       "        vertical-align: top;\n",
       "    }\n",
       "\n",
       "    .dataframe thead th {\n",
       "        text-align: right;\n",
       "    }\n",
       "</style>\n",
       "<table border=\"1\" class=\"dataframe\">\n",
       "  <thead>\n",
       "    <tr style=\"text-align: right;\">\n",
       "      <th></th>\n",
       "      <th>fecha</th>\n",
       "      <th>rango_horario</th>\n",
       "      <th>distrito</th>\n",
       "      <th>localizacion</th>\n",
       "      <th>numero</th>\n",
       "      <th>victimas</th>\n",
       "      <th>tipo_vehiculo</th>\n",
       "      <th>sexo</th>\n",
       "      <th>lesividad</th>\n",
       "      <th>fecha_completa</th>\n",
       "      <th>rango_edad</th>\n",
       "      <th>tipo_accidente</th>\n",
       "      <th>persona_implicada</th>\n",
       "      <th>condicion</th>\n",
       "      <th>coordenada_x</th>\n",
       "      <th>coordenada_y</th>\n",
       "      <th>positiva_alcohol</th>\n",
       "      <th>positiva_droga</th>\n",
       "      <th>accidente_id</th>\n",
       "    </tr>\n",
       "  </thead>\n",
       "  <tbody>\n",
       "    <tr>\n",
       "      <th>0</th>\n",
       "      <td>2010-01-01</td>\n",
       "      <td>0 days</td>\n",
       "      <td>chamartin</td>\n",
       "      <td>calle de cartagena num                        ...</td>\n",
       "      <td>104</td>\n",
       "      <td>1</td>\n",
       "      <td>turismo</td>\n",
       "      <td>hombre</td>\n",
       "      <td>ingreso inferior 24h</td>\n",
       "      <td>2010-01-01</td>\n",
       "      <td>5.0</td>\n",
       "      <td>colision doble</td>\n",
       "      <td>conductor</td>\n",
       "      <td>desfavorable</td>\n",
       "      <td>NaN</td>\n",
       "      <td>NaN</td>\n",
       "      <td>NaN</td>\n",
       "      <td>NaN</td>\n",
       "      <td>2010.135</td>\n",
       "    </tr>\n",
       "    <tr>\n",
       "      <th>1</th>\n",
       "      <td>2010-01-01</td>\n",
       "      <td>0 days</td>\n",
       "      <td>chamartin</td>\n",
       "      <td>calle de cartagena num                        ...</td>\n",
       "      <td>104</td>\n",
       "      <td>1</td>\n",
       "      <td>turismo</td>\n",
       "      <td>hombre</td>\n",
       "      <td>ingreso inferior 24h</td>\n",
       "      <td>2010-01-01</td>\n",
       "      <td>12.0</td>\n",
       "      <td>colision doble</td>\n",
       "      <td>conductor</td>\n",
       "      <td>desfavorable</td>\n",
       "      <td>NaN</td>\n",
       "      <td>NaN</td>\n",
       "      <td>NaN</td>\n",
       "      <td>NaN</td>\n",
       "      <td>2010.135</td>\n",
       "    </tr>\n",
       "    <tr>\n",
       "      <th>2</th>\n",
       "      <td>2010-01-01</td>\n",
       "      <td>0 days</td>\n",
       "      <td>chamartin</td>\n",
       "      <td>calle de cartagena num                        ...</td>\n",
       "      <td>104</td>\n",
       "      <td>1</td>\n",
       "      <td>turismo</td>\n",
       "      <td>mujer</td>\n",
       "      <td>asistencia sanitaria sin ingreso</td>\n",
       "      <td>2010-01-01</td>\n",
       "      <td>10.0</td>\n",
       "      <td>colision doble</td>\n",
       "      <td>pasajero</td>\n",
       "      <td>desfavorable</td>\n",
       "      <td>NaN</td>\n",
       "      <td>NaN</td>\n",
       "      <td>NaN</td>\n",
       "      <td>NaN</td>\n",
       "      <td>2010.135</td>\n",
       "    </tr>\n",
       "  </tbody>\n",
       "</table>\n",
       "</div>"
      ],
      "text/plain": [
       "       fecha rango_horario   distrito  \\\n",
       "0 2010-01-01        0 days  chamartin   \n",
       "1 2010-01-01        0 days  chamartin   \n",
       "2 2010-01-01        0 days  chamartin   \n",
       "\n",
       "                                        localizacion numero  victimas  \\\n",
       "0  calle de cartagena num                        ...    104         1   \n",
       "1  calle de cartagena num                        ...    104         1   \n",
       "2  calle de cartagena num                        ...    104         1   \n",
       "\n",
       "                              tipo_vehiculo    sexo  \\\n",
       "0  turismo                                   hombre   \n",
       "1  turismo                                   hombre   \n",
       "2  turismo                                    mujer   \n",
       "\n",
       "                          lesividad fecha_completa  rango_edad  \\\n",
       "0              ingreso inferior 24h     2010-01-01         5.0   \n",
       "1              ingreso inferior 24h     2010-01-01        12.0   \n",
       "2  asistencia sanitaria sin ingreso     2010-01-01        10.0   \n",
       "\n",
       "   tipo_accidente persona_implicada     condicion  coordenada_x  coordenada_y  \\\n",
       "0  colision doble         conductor  desfavorable           NaN           NaN   \n",
       "1  colision doble         conductor  desfavorable           NaN           NaN   \n",
       "2  colision doble          pasajero  desfavorable           NaN           NaN   \n",
       "\n",
       "   positiva_alcohol  positiva_droga  accidente_id  \n",
       "0               NaN             NaN      2010.135  \n",
       "1               NaN             NaN      2010.135  \n",
       "2               NaN             NaN      2010.135  "
      ]
     },
     "execution_count": 191,
     "metadata": {},
     "output_type": "execute_result"
    }
   ],
   "source": [
    "df_1.head(3)"
   ]
  },
  {
   "cell_type": "code",
   "execution_count": 192,
   "metadata": {},
   "outputs": [],
   "source": [
    "def generar_accidente_ids(df):\n",
    "    df_2['accidente_id'] = df_2['num_expediente'].apply(lambda x: x.replace('s', '.'))\n",
    "    df_2['accidente_id'] = df_2['accidente_id'].astype(float)\n",
    "\n",
    "    df_2.drop('num_expediente', axis = 1, inplace = True)\n",
    "    \n",
    "generar_accidente_ids(df_2)"
   ]
  },
  {
   "cell_type": "code",
   "execution_count": 193,
   "metadata": {},
   "outputs": [
    {
     "data": {
      "text/plain": [
       "['accidente_id',\n",
       " 'condicion',\n",
       " 'coordenada_x',\n",
       " 'coordenada_y',\n",
       " 'distrito',\n",
       " 'fecha',\n",
       " 'fecha_completa',\n",
       " 'lesividad',\n",
       " 'localizacion',\n",
       " 'numero',\n",
       " 'persona_implicada',\n",
       " 'positiva_alcohol',\n",
       " 'positiva_droga',\n",
       " 'rango_edad',\n",
       " 'rango_horario',\n",
       " 'sexo',\n",
       " 'tipo_accidente',\n",
       " 'tipo_vehiculo',\n",
       " 'victimas']"
      ]
     },
     "execution_count": 193,
     "metadata": {},
     "output_type": "execute_result"
    }
   ],
   "source": [
    "sorted(df_2.columns)"
   ]
  },
  {
   "cell_type": "code",
   "execution_count": 194,
   "metadata": {},
   "outputs": [
    {
     "data": {
      "text/plain": [
       "['accidente_id',\n",
       " 'condicion',\n",
       " 'coordenada_x',\n",
       " 'coordenada_y',\n",
       " 'distrito',\n",
       " 'fecha',\n",
       " 'fecha_completa',\n",
       " 'lesividad',\n",
       " 'localizacion',\n",
       " 'numero',\n",
       " 'persona_implicada',\n",
       " 'positiva_alcohol',\n",
       " 'positiva_droga',\n",
       " 'rango_edad',\n",
       " 'rango_horario',\n",
       " 'sexo',\n",
       " 'tipo_accidente',\n",
       " 'tipo_vehiculo',\n",
       " 'victimas']"
      ]
     },
     "execution_count": 194,
     "metadata": {},
     "output_type": "execute_result"
    }
   ],
   "source": [
    "sorted(df_1.columns)"
   ]
  },
  {
   "cell_type": "code",
   "execution_count": 195,
   "metadata": {},
   "outputs": [
    {
     "data": {
      "text/html": [
       "<div>\n",
       "<style scoped>\n",
       "    .dataframe tbody tr th:only-of-type {\n",
       "        vertical-align: middle;\n",
       "    }\n",
       "\n",
       "    .dataframe tbody tr th {\n",
       "        vertical-align: top;\n",
       "    }\n",
       "\n",
       "    .dataframe thead th {\n",
       "        text-align: right;\n",
       "    }\n",
       "</style>\n",
       "<table border=\"1\" class=\"dataframe\">\n",
       "  <thead>\n",
       "    <tr style=\"text-align: right;\">\n",
       "      <th></th>\n",
       "      <th>fecha</th>\n",
       "      <th>rango_horario</th>\n",
       "      <th>distrito</th>\n",
       "      <th>localizacion</th>\n",
       "      <th>numero</th>\n",
       "      <th>victimas</th>\n",
       "      <th>tipo_vehiculo</th>\n",
       "      <th>sexo</th>\n",
       "      <th>lesividad</th>\n",
       "      <th>fecha_completa</th>\n",
       "      <th>rango_edad</th>\n",
       "      <th>tipo_accidente</th>\n",
       "      <th>persona_implicada</th>\n",
       "      <th>condicion</th>\n",
       "      <th>coordenada_x</th>\n",
       "      <th>coordenada_y</th>\n",
       "      <th>positiva_alcohol</th>\n",
       "      <th>positiva_droga</th>\n",
       "      <th>accidente_id</th>\n",
       "    </tr>\n",
       "  </thead>\n",
       "  <tbody>\n",
       "    <tr>\n",
       "      <th>0</th>\n",
       "      <td>2010-01-01</td>\n",
       "      <td>0 days</td>\n",
       "      <td>chamartin</td>\n",
       "      <td>calle de cartagena num                        ...</td>\n",
       "      <td>104</td>\n",
       "      <td>1</td>\n",
       "      <td>turismo</td>\n",
       "      <td>hombre</td>\n",
       "      <td>ingreso inferior 24h</td>\n",
       "      <td>2010-01-01</td>\n",
       "      <td>5.0</td>\n",
       "      <td>colision doble</td>\n",
       "      <td>conductor</td>\n",
       "      <td>desfavorable</td>\n",
       "      <td>NaN</td>\n",
       "      <td>NaN</td>\n",
       "      <td>NaN</td>\n",
       "      <td>NaN</td>\n",
       "      <td>2010.135</td>\n",
       "    </tr>\n",
       "    <tr>\n",
       "      <th>1</th>\n",
       "      <td>2010-01-01</td>\n",
       "      <td>0 days</td>\n",
       "      <td>chamartin</td>\n",
       "      <td>calle de cartagena num                        ...</td>\n",
       "      <td>104</td>\n",
       "      <td>1</td>\n",
       "      <td>turismo</td>\n",
       "      <td>hombre</td>\n",
       "      <td>ingreso inferior 24h</td>\n",
       "      <td>2010-01-01</td>\n",
       "      <td>12.0</td>\n",
       "      <td>colision doble</td>\n",
       "      <td>conductor</td>\n",
       "      <td>desfavorable</td>\n",
       "      <td>NaN</td>\n",
       "      <td>NaN</td>\n",
       "      <td>NaN</td>\n",
       "      <td>NaN</td>\n",
       "      <td>2010.135</td>\n",
       "    </tr>\n",
       "    <tr>\n",
       "      <th>2</th>\n",
       "      <td>2010-01-01</td>\n",
       "      <td>0 days</td>\n",
       "      <td>chamartin</td>\n",
       "      <td>calle de cartagena num                        ...</td>\n",
       "      <td>104</td>\n",
       "      <td>1</td>\n",
       "      <td>turismo</td>\n",
       "      <td>mujer</td>\n",
       "      <td>asistencia sanitaria sin ingreso</td>\n",
       "      <td>2010-01-01</td>\n",
       "      <td>10.0</td>\n",
       "      <td>colision doble</td>\n",
       "      <td>pasajero</td>\n",
       "      <td>desfavorable</td>\n",
       "      <td>NaN</td>\n",
       "      <td>NaN</td>\n",
       "      <td>NaN</td>\n",
       "      <td>NaN</td>\n",
       "      <td>2010.135</td>\n",
       "    </tr>\n",
       "  </tbody>\n",
       "</table>\n",
       "</div>"
      ],
      "text/plain": [
       "       fecha rango_horario   distrito  \\\n",
       "0 2010-01-01        0 days  chamartin   \n",
       "1 2010-01-01        0 days  chamartin   \n",
       "2 2010-01-01        0 days  chamartin   \n",
       "\n",
       "                                        localizacion numero  victimas  \\\n",
       "0  calle de cartagena num                        ...    104         1   \n",
       "1  calle de cartagena num                        ...    104         1   \n",
       "2  calle de cartagena num                        ...    104         1   \n",
       "\n",
       "                              tipo_vehiculo    sexo  \\\n",
       "0  turismo                                   hombre   \n",
       "1  turismo                                   hombre   \n",
       "2  turismo                                    mujer   \n",
       "\n",
       "                          lesividad fecha_completa  rango_edad  \\\n",
       "0              ingreso inferior 24h     2010-01-01         5.0   \n",
       "1              ingreso inferior 24h     2010-01-01        12.0   \n",
       "2  asistencia sanitaria sin ingreso     2010-01-01        10.0   \n",
       "\n",
       "   tipo_accidente persona_implicada     condicion  coordenada_x  coordenada_y  \\\n",
       "0  colision doble         conductor  desfavorable           NaN           NaN   \n",
       "1  colision doble         conductor  desfavorable           NaN           NaN   \n",
       "2  colision doble          pasajero  desfavorable           NaN           NaN   \n",
       "\n",
       "   positiva_alcohol  positiva_droga  accidente_id  \n",
       "0               NaN             NaN      2010.135  \n",
       "1               NaN             NaN      2010.135  \n",
       "2               NaN             NaN      2010.135  "
      ]
     },
     "execution_count": 195,
     "metadata": {},
     "output_type": "execute_result"
    }
   ],
   "source": [
    "df_1.head(3)"
   ]
  },
  {
   "cell_type": "code",
   "execution_count": 196,
   "metadata": {},
   "outputs": [
    {
     "data": {
      "text/html": [
       "<div>\n",
       "<style scoped>\n",
       "    .dataframe tbody tr th:only-of-type {\n",
       "        vertical-align: middle;\n",
       "    }\n",
       "\n",
       "    .dataframe tbody tr th {\n",
       "        vertical-align: top;\n",
       "    }\n",
       "\n",
       "    .dataframe thead th {\n",
       "        text-align: right;\n",
       "    }\n",
       "</style>\n",
       "<table border=\"1\" class=\"dataframe\">\n",
       "  <thead>\n",
       "    <tr style=\"text-align: right;\">\n",
       "      <th></th>\n",
       "      <th>fecha</th>\n",
       "      <th>localizacion</th>\n",
       "      <th>numero</th>\n",
       "      <th>distrito</th>\n",
       "      <th>tipo_accidente</th>\n",
       "      <th>condicion</th>\n",
       "      <th>tipo_vehiculo</th>\n",
       "      <th>rango_edad</th>\n",
       "      <th>sexo</th>\n",
       "      <th>lesividad</th>\n",
       "      <th>coordenada_x</th>\n",
       "      <th>coordenada_y</th>\n",
       "      <th>positiva_alcohol</th>\n",
       "      <th>positiva_droga</th>\n",
       "      <th>rango_horario</th>\n",
       "      <th>fecha_completa</th>\n",
       "      <th>persona_implicada</th>\n",
       "      <th>victimas</th>\n",
       "      <th>accidente_id</th>\n",
       "    </tr>\n",
       "  </thead>\n",
       "  <tbody>\n",
       "    <tr>\n",
       "      <th>0</th>\n",
       "      <td>2019-02-04</td>\n",
       "      <td>call. alberto aguilera, 1</td>\n",
       "      <td>1</td>\n",
       "      <td>centro</td>\n",
       "      <td>colision doble</td>\n",
       "      <td>favorable</td>\n",
       "      <td>motocicleta &gt; 125cc</td>\n",
       "      <td>11.0</td>\n",
       "      <td>hombre</td>\n",
       "      <td>asistencia sanitaria sin ingreso</td>\n",
       "      <td>440068,049</td>\n",
       "      <td>4475679,17</td>\n",
       "      <td>0.0</td>\n",
       "      <td>NaN</td>\n",
       "      <td>0 days 09:00:00</td>\n",
       "      <td>2019-02-04 09:00:00</td>\n",
       "      <td>conductor</td>\n",
       "      <td>NaN</td>\n",
       "      <td>2018.017842</td>\n",
       "    </tr>\n",
       "    <tr>\n",
       "      <th>1</th>\n",
       "      <td>2019-02-04</td>\n",
       "      <td>call. alberto aguilera, 1</td>\n",
       "      <td>1</td>\n",
       "      <td>centro</td>\n",
       "      <td>colision doble</td>\n",
       "      <td>favorable</td>\n",
       "      <td>turismo</td>\n",
       "      <td>8.0</td>\n",
       "      <td>mujer</td>\n",
       "      <td>asistencia sanitaria sin ingreso</td>\n",
       "      <td>440068,049</td>\n",
       "      <td>4475679,17</td>\n",
       "      <td>0.0</td>\n",
       "      <td>NaN</td>\n",
       "      <td>0 days 09:00:00</td>\n",
       "      <td>2019-02-04 09:00:00</td>\n",
       "      <td>conductor</td>\n",
       "      <td>NaN</td>\n",
       "      <td>2018.017842</td>\n",
       "    </tr>\n",
       "    <tr>\n",
       "      <th>2</th>\n",
       "      <td>2019-01-01</td>\n",
       "      <td>paseo. santa maria de la cabeza / plaza. eliptica</td>\n",
       "      <td>168</td>\n",
       "      <td>carabanchel</td>\n",
       "      <td>colision doble</td>\n",
       "      <td>NaN</td>\n",
       "      <td>furgoneta</td>\n",
       "      <td>10.0</td>\n",
       "      <td>hombre</td>\n",
       "      <td>NaN</td>\n",
       "      <td>439139,603</td>\n",
       "      <td>4470836,854</td>\n",
       "      <td>1.0</td>\n",
       "      <td>NaN</td>\n",
       "      <td>0 days 03:00:00</td>\n",
       "      <td>2019-01-01 03:00:00</td>\n",
       "      <td>conductor</td>\n",
       "      <td>NaN</td>\n",
       "      <td>2019.000001</td>\n",
       "    </tr>\n",
       "  </tbody>\n",
       "</table>\n",
       "</div>"
      ],
      "text/plain": [
       "       fecha                                       localizacion numero  \\\n",
       "0 2019-02-04                          call. alberto aguilera, 1      1   \n",
       "1 2019-02-04                          call. alberto aguilera, 1      1   \n",
       "2 2019-01-01  paseo. santa maria de la cabeza / plaza. eliptica    168   \n",
       "\n",
       "      distrito  tipo_accidente  condicion        tipo_vehiculo  rango_edad  \\\n",
       "0       centro  colision doble  favorable  motocicleta > 125cc        11.0   \n",
       "1       centro  colision doble  favorable              turismo         8.0   \n",
       "2  carabanchel  colision doble        NaN            furgoneta        10.0   \n",
       "\n",
       "     sexo                         lesividad coordenada_x coordenada_y  \\\n",
       "0  hombre  asistencia sanitaria sin ingreso   440068,049   4475679,17   \n",
       "1   mujer  asistencia sanitaria sin ingreso   440068,049   4475679,17   \n",
       "2  hombre                               NaN   439139,603  4470836,854   \n",
       "\n",
       "   positiva_alcohol  positiva_droga   rango_horario      fecha_completa  \\\n",
       "0               0.0             NaN 0 days 09:00:00 2019-02-04 09:00:00   \n",
       "1               0.0             NaN 0 days 09:00:00 2019-02-04 09:00:00   \n",
       "2               1.0             NaN 0 days 03:00:00 2019-01-01 03:00:00   \n",
       "\n",
       "  persona_implicada  victimas  accidente_id  \n",
       "0         conductor       NaN   2018.017842  \n",
       "1         conductor       NaN   2018.017842  \n",
       "2         conductor       NaN   2019.000001  "
      ]
     },
     "execution_count": 196,
     "metadata": {},
     "output_type": "execute_result"
    }
   ],
   "source": [
    "df_2.head(3)"
   ]
  },
  {
   "cell_type": "code",
   "execution_count": 197,
   "metadata": {},
   "outputs": [
    {
     "data": {
      "text/plain": [
       "['accidente_id',\n",
       " 'condicion',\n",
       " 'coordenada_x',\n",
       " 'coordenada_y',\n",
       " 'distrito',\n",
       " 'fecha',\n",
       " 'fecha_completa',\n",
       " 'lesividad',\n",
       " 'localizacion',\n",
       " 'numero',\n",
       " 'persona_implicada',\n",
       " 'positiva_alcohol',\n",
       " 'positiva_droga',\n",
       " 'rango_edad',\n",
       " 'rango_horario',\n",
       " 'sexo',\n",
       " 'tipo_accidente',\n",
       " 'tipo_vehiculo',\n",
       " 'victimas']"
      ]
     },
     "execution_count": 197,
     "metadata": {},
     "output_type": "execute_result"
    }
   ],
   "source": [
    "sorted(df_1.columns)"
   ]
  },
  {
   "cell_type": "markdown",
   "metadata": {},
   "source": [
    "# Renombrar categorias en tipo_vehiculo\n"
   ]
  },
  {
   "cell_type": "markdown",
   "metadata": {},
   "source": [
    "Se crea diccionario para establecer misma categorias entre los Dataframes."
   ]
  },
  {
   "cell_type": "code",
   "execution_count": 198,
   "metadata": {},
   "outputs": [],
   "source": [
    "vehiculos= {\n",
    "    'no asignado'                       : np.nan,\n",
    "    'sin especificar'                   : np.nan,\n",
    "    'turismo'                           : \"turismo\",\n",
    "    'todo terreno'                      : \"turismo\",\n",
    "    'bicicleta'                         : \"bicicleta\",\n",
    "    'bicicleta epac (pedaleo asistido)' : 'bicicleta',\n",
    "    'motocicleta'                       : \"motocicleta\",\n",
    "    'motocicleta > 125cc'               : 'motocicleta',\n",
    "    'motocicleta hasta 125cc'           : 'motocicleta',\n",
    "    'ciclomotor'                        : \"ciclomotor\",\n",
    "    'ciclo'                             : 'ciclomotor',\n",
    "    'cuadriciclo no ligero'             : 'ciclomotor',\n",
    "    'cuadriciclo ligero'                : 'ciclomotor',\n",
    "    'ciclomotor de dos ruedas l1e-b'    : 'ciclomotor',\n",
    "    'ciclo de motor l1e-a'              : 'ciclomotor',\n",
    "    'furgoneta'                         : \"furgoneta-autocaravana\",\n",
    "    'autocaravana'                      : \"furgoneta-autocaravana\",\n",
    "    'caravana'                          : \"furgoneta-autocaravana\",\n",
    "    'camion'                            : \"camion\",\n",
    "    'camion rigido'                     : 'camion',\n",
    "    'vehiculo articulado'               : 'camion',\n",
    "    'tractocamion'                      : 'camion',\n",
    "    'semiremolque'                      : 'camion',\n",
    "    'remolque'                          : 'camion',\n",
    "    'autobus-autocar'                   : \"autobus-autocar\",\n",
    "    'autobus'                           : 'autobus-autocar',\n",
    "    'autobus articulado'                : 'autobus-autocar',\n",
    "    'microbus <= 17 plazas'             : 'autobus-autocar',\n",
    "    'ambulancia'                        : \"emergencias\",\n",
    "    'ambulancia samur'                  : 'emergencias',\n",
    "    'camion de bomberos'                : 'emergencias',\n",
    "    'tren/metro'                        : 'transporte urbano',\n",
    "    'tranvia'                           : 'transporte urbano',\n",
    "    'auto-taxi'                         : 'transporte urbano',\n",
    "    'autobus emt'                       : 'transporte urbano',\n",
    "    'autobus articulado emt'            : 'transporte urbano',\n",
    "    'veh.3 ruedas'                      : \"vehiculo tres ruedas\",\n",
    "    'moto de tres ruedas > 125cc'       : 'vehiculo tres ruedas',\n",
    "    'moto de tres ruedas hasta 125cc'   : \"vehiculo tres ruedas\",\n",
    "    'ciclomotor de tres ruedas'         : 'vehiculo tres ruedas',\n",
    "    'varios'                            : \"varios\",\n",
    "    'vmu electrico'                     : 'varios',\n",
    "    'maquinaria de obras'               : 'varios',\n",
    "    'otros vehiculos sin motor'         : 'varios',\n",
    "    'otros vehiculos con motor'         : 'varios',\n",
    "    'patinete no electrico'             : 'varios',\n",
    "    'patinete'                          : 'varios',\n",
    "    'maquinaria agricola'               : 'varios',\n",
    "}\n",
    "\n",
    "df_1[\"tipo_vehiculo\"] = df_1[\"tipo_vehiculo\"].str.strip().map(vehiculos)\n",
    "df_2[\"tipo_vehiculo\"] = df_2[\"tipo_vehiculo\"].map(vehiculos)"
   ]
  },
  {
   "cell_type": "markdown",
   "metadata": {},
   "source": [
    "# ORDEN FINAL COLUMNAS"
   ]
  },
  {
   "cell_type": "code",
   "execution_count": 199,
   "metadata": {},
   "outputs": [],
   "source": [
    "df_1 = df_1.reindex(columns = ['accidente_id', 'fecha_completa', 'fecha', 'rango_horario', 'localizacion', 'numero', 'distrito', 'coordenada_x', 'coordenada_y', 'condicion', 'lesividad', 'persona_implicada', 'positiva_alcohol','positiva_droga', 'rango_edad', 'sexo', 'tipo_accidente', 'tipo_vehiculo', 'victimas'])"
   ]
  },
  {
   "cell_type": "code",
   "execution_count": 200,
   "metadata": {},
   "outputs": [],
   "source": [
    "df_2 = df_2[df_1.columns]"
   ]
  },
  {
   "cell_type": "code",
   "execution_count": 201,
   "metadata": {},
   "outputs": [
    {
     "data": {
      "text/plain": [
       "(252998, 19)"
      ]
     },
     "execution_count": 201,
     "metadata": {},
     "output_type": "execute_result"
    }
   ],
   "source": [
    "df_1.shape"
   ]
  },
  {
   "cell_type": "code",
   "execution_count": 202,
   "metadata": {},
   "outputs": [
    {
     "data": {
      "text/plain": [
       "(225785, 19)"
      ]
     },
     "execution_count": 202,
     "metadata": {},
     "output_type": "execute_result"
    }
   ],
   "source": [
    "df_2.shape"
   ]
  },
  {
   "cell_type": "code",
   "execution_count": 203,
   "metadata": {},
   "outputs": [],
   "source": [
    "df_accidentes = pd.concat([df_1, df_2], ignore_index=True)"
   ]
  },
  {
   "cell_type": "code",
   "execution_count": 204,
   "metadata": {},
   "outputs": [
    {
     "name": "stdout",
     "output_type": "stream",
     "text": [
      "<class 'pandas.core.frame.DataFrame'>\n",
      "RangeIndex: 478783 entries, 0 to 478782\n",
      "Data columns (total 19 columns):\n",
      " #   Column             Non-Null Count   Dtype          \n",
      "---  ------             --------------   -----          \n",
      " 0   accidente_id       478783 non-null  float64        \n",
      " 1   fecha_completa     478783 non-null  datetime64[ns] \n",
      " 2   fecha              478783 non-null  datetime64[ns] \n",
      " 3   rango_horario      478783 non-null  timedelta64[ns]\n",
      " 4   localizacion       478783 non-null  object         \n",
      " 5   numero             478775 non-null  object         \n",
      " 6   distrito           478775 non-null  object         \n",
      " 7   coordenada_x       176951 non-null  object         \n",
      " 8   coordenada_y       176951 non-null  object         \n",
      " 9   condicion          452103 non-null  object         \n",
      " 10  lesividad          365297 non-null  object         \n",
      " 11  persona_implicada  478780 non-null  object         \n",
      " 12  positiva_alcohol   224988 non-null  float64        \n",
      " 13  positiva_droga     703 non-null     float64        \n",
      " 14  rango_edad         434228 non-null  float64        \n",
      " 15  sexo               442601 non-null  object         \n",
      " 16  tipo_accidente     478760 non-null  object         \n",
      " 17  tipo_vehiculo      430695 non-null  object         \n",
      " 18  victimas           252998 non-null  float64        \n",
      "dtypes: datetime64[ns](2), float64(5), object(11), timedelta64[ns](1)\n",
      "memory usage: 69.4+ MB\n"
     ]
    }
   ],
   "source": [
    "df_accidentes.info()"
   ]
  },
  {
   "cell_type": "code",
   "execution_count": 205,
   "metadata": {},
   "outputs": [
    {
     "data": {
      "text/plain": [
       "accidente_id              0\n",
       "fecha_completa            0\n",
       "fecha                     0\n",
       "rango_horario             0\n",
       "localizacion              0\n",
       "numero                    8\n",
       "distrito                  8\n",
       "coordenada_x         301832\n",
       "coordenada_y         301832\n",
       "condicion             26680\n",
       "lesividad            113486\n",
       "persona_implicada         3\n",
       "positiva_alcohol     253795\n",
       "positiva_droga       478080\n",
       "rango_edad            44555\n",
       "sexo                  36182\n",
       "tipo_accidente           23\n",
       "tipo_vehiculo         48088\n",
       "victimas             225785\n",
       "dtype: int64"
      ]
     },
     "execution_count": 205,
     "metadata": {},
     "output_type": "execute_result"
    }
   ],
   "source": [
    "df_accidentes.isna().sum()"
   ]
  },
  {
   "cell_type": "code",
   "execution_count": 206,
   "metadata": {},
   "outputs": [
    {
     "data": {
      "text/plain": [
       "positiva_droga       99.853169\n",
       "coordenada_x         63.041503\n",
       "coordenada_y         63.041503\n",
       "positiva_alcohol     53.008357\n",
       "victimas             47.158107\n",
       "lesividad            23.703014\n",
       "tipo_vehiculo        10.043799\n",
       "rango_edad            9.305886\n",
       "sexo                  7.557077\n",
       "condicion             5.572462\n",
       "tipo_accidente        0.004804\n",
       "distrito              0.001671\n",
       "numero                0.001671\n",
       "persona_implicada     0.000627\n",
       "fecha_completa        0.000000\n",
       "localizacion          0.000000\n",
       "rango_horario         0.000000\n",
       "fecha                 0.000000\n",
       "accidente_id          0.000000\n",
       "dtype: float64"
      ]
     },
     "execution_count": 206,
     "metadata": {},
     "output_type": "execute_result"
    }
   ],
   "source": [
    "(df_accidentes.isna().sum()/df_accidentes.shape[0]*100).sort_values(ascending = False)"
   ]
  },
  {
   "cell_type": "code",
   "execution_count": 207,
   "metadata": {},
   "outputs": [
    {
     "name": "stdout",
     "output_type": "stream",
     "text": [
      "<class 'pandas.core.frame.DataFrame'>\n",
      "RangeIndex: 478783 entries, 0 to 478782\n",
      "Data columns (total 19 columns):\n",
      " #   Column             Non-Null Count   Dtype          \n",
      "---  ------             --------------   -----          \n",
      " 0   accidente_id       478783 non-null  float64        \n",
      " 1   fecha_completa     478783 non-null  datetime64[ns] \n",
      " 2   fecha              478783 non-null  datetime64[ns] \n",
      " 3   rango_horario      478783 non-null  timedelta64[ns]\n",
      " 4   localizacion       478783 non-null  object         \n",
      " 5   numero             478775 non-null  object         \n",
      " 6   distrito           478775 non-null  object         \n",
      " 7   coordenada_x       176951 non-null  object         \n",
      " 8   coordenada_y       176951 non-null  object         \n",
      " 9   condicion          452103 non-null  object         \n",
      " 10  lesividad          365297 non-null  object         \n",
      " 11  persona_implicada  478780 non-null  object         \n",
      " 12  positiva_alcohol   224988 non-null  float64        \n",
      " 13  positiva_droga     703 non-null     float64        \n",
      " 14  rango_edad         434228 non-null  float64        \n",
      " 15  sexo               442601 non-null  object         \n",
      " 16  tipo_accidente     478760 non-null  object         \n",
      " 17  tipo_vehiculo      430695 non-null  object         \n",
      " 18  victimas           252998 non-null  float64        \n",
      "dtypes: datetime64[ns](2), float64(5), object(11), timedelta64[ns](1)\n",
      "memory usage: 69.4+ MB\n"
     ]
    }
   ],
   "source": [
    "df_accidentes.info()"
   ]
  },
  {
   "cell_type": "markdown",
   "metadata": {},
   "source": [
    "- Convertir rango_horario a datetime"
   ]
  },
  {
   "cell_type": "code",
   "execution_count": 208,
   "metadata": {},
   "outputs": [],
   "source": [
    "df_accidentes.to_pickle(\"accidentes.pkl\")"
   ]
  }
 ],
 "metadata": {
  "kernelspec": {
   "display_name": "base",
   "language": "python",
   "name": "python3"
  },
  "language_info": {
   "codemirror_mode": {
    "name": "ipython",
    "version": 3
   },
   "file_extension": ".py",
   "mimetype": "text/x-python",
   "name": "python",
   "nbconvert_exporter": "python",
   "pygments_lexer": "ipython3",
   "version": "3.11.8"
  }
 },
 "nbformat": 4,
 "nbformat_minor": 2
}
